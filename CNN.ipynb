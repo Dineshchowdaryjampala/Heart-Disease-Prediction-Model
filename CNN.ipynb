{
 "cells": [
  {
   "cell_type": "markdown",
   "id": "f3229a8f-df57-49e4-b2a5-8ce262ad5223",
   "metadata": {},
   "source": [
    "# CONVOLUTIONAL NEURAL NETWORK MODEL ANALYSIS"
   ]
  },
  {
   "cell_type": "code",
   "execution_count": 41,
   "id": "7c185cb4-cb76-4597-ab4b-bac241ee7944",
   "metadata": {},
   "outputs": [],
   "source": [
    "import numpy as np\n",
    "import pandas as pd\n",
    "from sklearn.preprocessing import StandardScaler\n",
    "from sklearn.model_selection import train_test_split\n",
    "from sklearn.metrics import confusion_matrix, classification_report, accuracy_score\n",
    "import tensorflow as tf\n",
    "from tensorflow.keras.models import Sequential\n",
    "from tensorflow.keras.layers import Conv1D, MaxPooling1D, Flatten, Dense, Dropout\n",
    "from keras.models import Sequential\n",
    "from keras.layers import Conv1D, MaxPooling1D, Flatten, Dense, Dropout, Input\n",
    "import warnings"
   ]
  },
  {
   "cell_type": "code",
   "execution_count": 5,
   "id": "a043e27c-ae07-4105-b794-f0b040a1bdb6",
   "metadata": {},
   "outputs": [],
   "source": [
    "heart_df = pd.read_csv('heart_failure_clinical_records_dataset.csv')"
   ]
  },
  {
   "cell_type": "code",
   "execution_count": 7,
   "id": "6c1f817e-ed51-4e0c-aeb1-c95829580dd8",
   "metadata": {},
   "outputs": [],
   "source": [
    "X = heart_df.drop(columns='DEATH_EVENT', axis=1)\n",
    "Y = heart_df['DEATH_EVENT']"
   ]
  },
  {
   "cell_type": "code",
   "execution_count": 9,
   "id": "3a4b957e-728d-4a85-ab40-8095573b5191",
   "metadata": {},
   "outputs": [],
   "source": [
    "scaler = StandardScaler()\n",
    "scaler.fit(X)\n",
    "X_scaled = scaler.transform(X)"
   ]
  },
  {
   "cell_type": "code",
   "execution_count": 11,
   "id": "3cb1a472-c9eb-43fd-bf8b-b34f02b3da1a",
   "metadata": {},
   "outputs": [],
   "source": [
    "X_train, X_test, Y_train, Y_test = train_test_split(X_scaled, Y, test_size=0.2, stratify=Y, random_state=2)"
   ]
  },
  {
   "cell_type": "code",
   "execution_count": 13,
   "id": "09404433-8e92-4f9d-8f79-5b13cf63589e",
   "metadata": {},
   "outputs": [],
   "source": [
    "X_train_cnn = X_train.reshape(X_train.shape[0], X_train.shape[1], 1)\n",
    "X_test_cnn = X_test.reshape(X_test.shape[0], X_test.shape[1], 1)"
   ]
  },
  {
   "cell_type": "code",
   "execution_count": 19,
   "id": "975af0b8-5151-4c43-9c93-019a6ef8fdda",
   "metadata": {},
   "outputs": [],
   "source": [
    "model_cnn = Sequential([\n",
    "    Input(shape=(X_train_cnn.shape[1], 1)),  # Use Input layer to define the input shape\n",
    "    Conv1D(filters=32, kernel_size=3, activation='relu'),\n",
    "    MaxPooling1D(pool_size=2),\n",
    "    Conv1D(filters=64, kernel_size=3, activation='relu'),\n",
    "    MaxPooling1D(pool_size=2),\n",
    "    Flatten(),\n",
    "    Dense(128, activation='relu'),\n",
    "    Dropout(0.5),\n",
    "    Dense(1, activation='sigmoid')\n",
    "])"
   ]
  },
  {
   "cell_type": "code",
   "execution_count": 21,
   "id": "5af26974-0154-4505-88b7-50457875391d",
   "metadata": {},
   "outputs": [],
   "source": [
    "model_cnn.compile(optimizer='adam', loss='binary_crossentropy', metrics=['accuracy'])"
   ]
  },
  {
   "cell_type": "code",
   "execution_count": 23,
   "id": "de462809-4c9c-4a4d-a9e9-467f5ea60ae9",
   "metadata": {},
   "outputs": [
    {
     "name": "stdout",
     "output_type": "stream",
     "text": [
      "Epoch 1/20\n",
      "\u001b[1m8/8\u001b[0m \u001b[32m━━━━━━━━━━━━━━━━━━━━\u001b[0m\u001b[37m\u001b[0m \u001b[1m4s\u001b[0m 77ms/step - accuracy: 0.5786 - loss: 0.6866 - val_accuracy: 0.6833 - val_loss: 0.6462\n",
      "Epoch 2/20\n",
      "\u001b[1m8/8\u001b[0m \u001b[32m━━━━━━━━━━━━━━━━━━━━\u001b[0m\u001b[37m\u001b[0m \u001b[1m0s\u001b[0m 18ms/step - accuracy: 0.6871 - loss: 0.6438 - val_accuracy: 0.6833 - val_loss: 0.6323\n",
      "Epoch 3/20\n",
      "\u001b[1m8/8\u001b[0m \u001b[32m━━━━━━━━━━━━━━━━━━━━\u001b[0m\u001b[37m\u001b[0m \u001b[1m0s\u001b[0m 16ms/step - accuracy: 0.6773 - loss: 0.6292 - val_accuracy: 0.6833 - val_loss: 0.6257\n",
      "Epoch 4/20\n",
      "\u001b[1m8/8\u001b[0m \u001b[32m━━━━━━━━━━━━━━━━━━━━\u001b[0m\u001b[37m\u001b[0m \u001b[1m0s\u001b[0m 16ms/step - accuracy: 0.6680 - loss: 0.6352 - val_accuracy: 0.6833 - val_loss: 0.6184\n",
      "Epoch 5/20\n",
      "\u001b[1m8/8\u001b[0m \u001b[32m━━━━━━━━━━━━━━━━━━━━\u001b[0m\u001b[37m\u001b[0m \u001b[1m0s\u001b[0m 16ms/step - accuracy: 0.6669 - loss: 0.6161 - val_accuracy: 0.6833 - val_loss: 0.6060\n",
      "Epoch 6/20\n",
      "\u001b[1m8/8\u001b[0m \u001b[32m━━━━━━━━━━━━━━━━━━━━\u001b[0m\u001b[37m\u001b[0m \u001b[1m0s\u001b[0m 15ms/step - accuracy: 0.6874 - loss: 0.6160 - val_accuracy: 0.7000 - val_loss: 0.5922\n",
      "Epoch 7/20\n",
      "\u001b[1m8/8\u001b[0m \u001b[32m━━━━━━━━━━━━━━━━━━━━\u001b[0m\u001b[37m\u001b[0m \u001b[1m0s\u001b[0m 15ms/step - accuracy: 0.6778 - loss: 0.5908 - val_accuracy: 0.6833 - val_loss: 0.5832\n",
      "Epoch 8/20\n",
      "\u001b[1m8/8\u001b[0m \u001b[32m━━━━━━━━━━━━━━━━━━━━\u001b[0m\u001b[37m\u001b[0m \u001b[1m0s\u001b[0m 16ms/step - accuracy: 0.6524 - loss: 0.6103 - val_accuracy: 0.7000 - val_loss: 0.5706\n",
      "Epoch 9/20\n",
      "\u001b[1m8/8\u001b[0m \u001b[32m━━━━━━━━━━━━━━━━━━━━\u001b[0m\u001b[37m\u001b[0m \u001b[1m0s\u001b[0m 16ms/step - accuracy: 0.6738 - loss: 0.5878 - val_accuracy: 0.7000 - val_loss: 0.5638\n",
      "Epoch 10/20\n",
      "\u001b[1m8/8\u001b[0m \u001b[32m━━━━━━━━━━━━━━━━━━━━\u001b[0m\u001b[37m\u001b[0m \u001b[1m0s\u001b[0m 16ms/step - accuracy: 0.6857 - loss: 0.5661 - val_accuracy: 0.7000 - val_loss: 0.5503\n",
      "Epoch 11/20\n",
      "\u001b[1m8/8\u001b[0m \u001b[32m━━━━━━━━━━━━━━━━━━━━\u001b[0m\u001b[37m\u001b[0m \u001b[1m0s\u001b[0m 16ms/step - accuracy: 0.7325 - loss: 0.5426 - val_accuracy: 0.7000 - val_loss: 0.5369\n",
      "Epoch 12/20\n",
      "\u001b[1m8/8\u001b[0m \u001b[32m━━━━━━━━━━━━━━━━━━━━\u001b[0m\u001b[37m\u001b[0m \u001b[1m0s\u001b[0m 13ms/step - accuracy: 0.7305 - loss: 0.5056 - val_accuracy: 0.7667 - val_loss: 0.5320\n",
      "Epoch 13/20\n",
      "\u001b[1m8/8\u001b[0m \u001b[32m━━━━━━━━━━━━━━━━━━━━\u001b[0m\u001b[37m\u001b[0m \u001b[1m0s\u001b[0m 15ms/step - accuracy: 0.7787 - loss: 0.4838 - val_accuracy: 0.7167 - val_loss: 0.5188\n",
      "Epoch 14/20\n",
      "\u001b[1m8/8\u001b[0m \u001b[32m━━━━━━━━━━━━━━━━━━━━\u001b[0m\u001b[37m\u001b[0m \u001b[1m0s\u001b[0m 13ms/step - accuracy: 0.7758 - loss: 0.4859 - val_accuracy: 0.7333 - val_loss: 0.5088\n",
      "Epoch 15/20\n",
      "\u001b[1m8/8\u001b[0m \u001b[32m━━━━━━━━━━━━━━━━━━━━\u001b[0m\u001b[37m\u001b[0m \u001b[1m0s\u001b[0m 17ms/step - accuracy: 0.7652 - loss: 0.4729 - val_accuracy: 0.7333 - val_loss: 0.5165\n",
      "Epoch 16/20\n",
      "\u001b[1m8/8\u001b[0m \u001b[32m━━━━━━━━━━━━━━━━━━━━\u001b[0m\u001b[37m\u001b[0m \u001b[1m0s\u001b[0m 16ms/step - accuracy: 0.7807 - loss: 0.4945 - val_accuracy: 0.7167 - val_loss: 0.5089\n",
      "Epoch 17/20\n",
      "\u001b[1m8/8\u001b[0m \u001b[32m━━━━━━━━━━━━━━━━━━━━\u001b[0m\u001b[37m\u001b[0m \u001b[1m0s\u001b[0m 15ms/step - accuracy: 0.7879 - loss: 0.4604 - val_accuracy: 0.7167 - val_loss: 0.5019\n",
      "Epoch 18/20\n",
      "\u001b[1m8/8\u001b[0m \u001b[32m━━━━━━━━━━━━━━━━━━━━\u001b[0m\u001b[37m\u001b[0m \u001b[1m0s\u001b[0m 14ms/step - accuracy: 0.8210 - loss: 0.4642 - val_accuracy: 0.7000 - val_loss: 0.4970\n",
      "Epoch 19/20\n",
      "\u001b[1m8/8\u001b[0m \u001b[32m━━━━━━━━━━━━━━━━━━━━\u001b[0m\u001b[37m\u001b[0m \u001b[1m0s\u001b[0m 17ms/step - accuracy: 0.7800 - loss: 0.4427 - val_accuracy: 0.7000 - val_loss: 0.4965\n",
      "Epoch 20/20\n",
      "\u001b[1m8/8\u001b[0m \u001b[32m━━━━━━━━━━━━━━━━━━━━\u001b[0m\u001b[37m\u001b[0m \u001b[1m0s\u001b[0m 15ms/step - accuracy: 0.8336 - loss: 0.3875 - val_accuracy: 0.7333 - val_loss: 0.4979\n"
     ]
    }
   ],
   "source": [
    "history = model_cnn.fit(X_train_cnn, Y_train, epochs=20, validation_data=(X_test_cnn, Y_test), verbose=1)"
   ]
  },
  {
   "cell_type": "code",
   "execution_count": 25,
   "id": "7a8b5532-d2e8-4782-84b6-85947e438baf",
   "metadata": {},
   "outputs": [
    {
     "name": "stdout",
     "output_type": "stream",
     "text": [
      "Test Accuracy: 73.33%\n"
     ]
    }
   ],
   "source": [
    "test_loss, test_accuracy = model_cnn.evaluate(X_test_cnn, Y_test, verbose=0)\n",
    "print(f\"Test Accuracy: {test_accuracy * 100:.2f}%\")"
   ]
  },
  {
   "cell_type": "code",
   "execution_count": 27,
   "id": "ffd56b12-2d42-4849-95d1-c7fce8645b8a",
   "metadata": {},
   "outputs": [
    {
     "name": "stdout",
     "output_type": "stream",
     "text": [
      "\u001b[1m2/2\u001b[0m \u001b[32m━━━━━━━━━━━━━━━━━━━━\u001b[0m\u001b[37m\u001b[0m \u001b[1m0s\u001b[0m 146ms/step\n"
     ]
    }
   ],
   "source": [
    "Y_pred_cnn = (model_cnn.predict(X_test_cnn) >= 0.5).astype(int)"
   ]
  },
  {
   "cell_type": "code",
   "execution_count": 33,
   "id": "25fd2cd2-7e5b-4d15-8d6b-63c390a76e8f",
   "metadata": {},
   "outputs": [
    {
     "name": "stdout",
     "output_type": "stream",
     "text": [
      "\n",
      "Confusion Matrix:\n",
      " [[38  3]\n",
      " [13  6]]\n"
     ]
    }
   ],
   "source": [
    "conf_matrix = confusion_matrix(Y_test, Y_pred_cnn)\n",
    "print(\"\\nConfusion Matrix:\\n\", conf_matrix)"
   ]
  },
  {
   "cell_type": "code",
   "execution_count": 35,
   "id": "eb326736-bf6e-4e03-b4ed-b67843e0cdac",
   "metadata": {},
   "outputs": [
    {
     "name": "stdout",
     "output_type": "stream",
     "text": [
      "\n",
      "Classification Report:\n",
      "               precision    recall  f1-score   support\n",
      "\n",
      "           0       0.75      0.93      0.83        41\n",
      "           1       0.67      0.32      0.43        19\n",
      "\n",
      "    accuracy                           0.73        60\n",
      "   macro avg       0.71      0.62      0.63        60\n",
      "weighted avg       0.72      0.73      0.70        60\n",
      "\n"
     ]
    }
   ],
   "source": [
    "class_report = classification_report(Y_test, Y_pred_cnn)\n",
    "print(\"\\nClassification Report:\\n\", class_report)"
   ]
  },
  {
   "cell_type": "code",
   "execution_count": 37,
   "id": "079389cc-c0ad-4527-9e22-340b54b5bd87",
   "metadata": {},
   "outputs": [
    {
     "name": "stdout",
     "output_type": "stream",
     "text": [
      "\n",
      "Accuracy: 73.33%\n"
     ]
    }
   ],
   "source": [
    "accuracy = accuracy_score(Y_test, Y_pred_cnn)\n",
    "print(f\"\\nAccuracy: {accuracy * 100:.2f}%\")"
   ]
  },
  {
   "cell_type": "code",
   "execution_count": 43,
   "id": "7fcbd13c-a9f7-4a44-b0c6-b71a2790fdaf",
   "metadata": {},
   "outputs": [
    {
     "name": "stdout",
     "output_type": "stream",
     "text": [
      "\u001b[1m1/1\u001b[0m \u001b[32m━━━━━━━━━━━━━━━━━━━━\u001b[0m\u001b[37m\u001b[0m \u001b[1m0s\u001b[0m 51ms/step\n",
      "CNN Prediction for Data: No Heart Disease\n"
     ]
    }
   ],
   "source": [
    "warnings.filterwarnings(\"ignore\", message=\"X does not have valid feature names\")\n",
    "data_1 = np.array((49,1,80,0,30,1,42700,1,138,0,0,12))  \n",
    "data_reshaped = data_1.reshape(1, len(data_1))  \n",
    "data_standard_cnn = scaler.transform(data_reshaped) \n",
    "data_standard_cnn = data_standard_cnn.reshape(1, data_standard_cnn.shape[1], 1)  \n",
    "prediction_cnn = model_cnn.predict(data_standard_cnn)  \n",
    "\n",
    "if prediction_cnn[0][0] >= 0.5:\n",
    "    print('CNN Prediction for Data: Heart Disease')\n",
    "else:\n",
    "    print('CNN Prediction for Data: No Heart Disease')"
   ]
  },
  {
   "cell_type": "code",
   "execution_count": 45,
   "id": "44da0a1b-f052-4e34-9b9f-7a235169d75d",
   "metadata": {},
   "outputs": [
    {
     "name": "stdout",
     "output_type": "stream",
     "text": [
      "\u001b[1m1/1\u001b[0m \u001b[32m━━━━━━━━━━━━━━━━━━━━\u001b[0m\u001b[37m\u001b[0m \u001b[1m0s\u001b[0m 35ms/step\n",
      "CNN Prediction for Data: Heart Disease\n"
     ]
    }
   ],
   "source": [
    "warnings.filterwarnings(\"ignore\", message=\"X does not have valid feature names\")\n",
    "data_1 = np.array((75,0,582,0,20,1,265000,1.9,130,1,0,4))  \n",
    "data_reshaped = data_1.reshape(1, len(data_1))  \n",
    "data_standard_cnn = scaler.transform(data_reshaped) \n",
    "data_standard_cnn = data_standard_cnn.reshape(1, data_standard_cnn.shape[1], 1)  \n",
    "prediction_cnn = model_cnn.predict(data_standard_cnn)  \n",
    "\n",
    "if prediction_cnn[0][0] >= 0.5:\n",
    "    print('CNN Prediction for Data: Heart Disease')\n",
    "else:\n",
    "    print('CNN Prediction for Data: No Heart Disease')"
   ]
  },
  {
   "cell_type": "code",
   "execution_count": null,
   "id": "d18dfb7b-6534-4e53-90b3-19113403cd69",
   "metadata": {},
   "outputs": [],
   "source": []
  }
 ],
 "metadata": {
  "kernelspec": {
   "display_name": "Python 3 (ipykernel)",
   "language": "python",
   "name": "python3"
  },
  "language_info": {
   "codemirror_mode": {
    "name": "ipython",
    "version": 3
   },
   "file_extension": ".py",
   "mimetype": "text/x-python",
   "name": "python",
   "nbconvert_exporter": "python",
   "pygments_lexer": "ipython3",
   "version": "3.12.4"
  }
 },
 "nbformat": 4,
 "nbformat_minor": 5
}
